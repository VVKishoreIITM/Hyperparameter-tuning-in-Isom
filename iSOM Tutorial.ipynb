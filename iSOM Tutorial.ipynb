{
 "cells": [
  {
   "cell_type": "markdown",
   "id": "8579c503",
   "metadata": {},
   "source": [
    "### Importing libraries and toolbox"
   ]
  },
  {
   "cell_type": "code",
   "execution_count": 1,
   "id": "9ba31efa",
   "metadata": {},
   "outputs": [],
   "source": [
    "import numpy as np\n",
    "import pandas as pd\n",
    "from bokeh.plotting import show\n",
    "import matplotlib.pyplot as plt\n",
    "#### All `sompy.` terms refer to the toolbox files\n",
    "\n",
    "from sompy.sompy_isom import SOMFactory as smf   # (In case of iSOM)\n",
    "# from sompy.sompy_csom import SOMFactory as smf  # (In case of cSOM)\n",
    "    \n",
    "from sompy.visualization.viz_functions import Visualization_func\n",
    "from sompy.visualization.comp_planes import som_cplanes\n",
    "from sompy.visualization.hitmaps import som_hitmap\n",
    "from sompy.aux_fun import aux_fun"
   ]
  },
  {
   "cell_type": "markdown",
   "id": "bc7d2692",
   "metadata": {},
   "source": [
    "### Loading input data\n",
    "\n",
    "1. `n_array`: Input data which is a numpy array\n",
    "2. `comp_names`: Component names i.e. names of each design variable/feature"
   ]
  },
  {
   "cell_type": "code",
   "execution_count": 2,
   "id": "58e954b3",
   "metadata": {},
   "outputs": [],
   "source": [
    "# file = open('spherical_data.csv')\n",
    "# n_array = np.genfromtxt(file, delimiter=',',skip_header=1)\n",
    "# data = pd.read_csv('spherical_data.csv')\n",
    "# file.close()\n",
    "# comp_names = list(data.columns)\n",
    "# comp_names"
   ]
  },
  {
   "cell_type": "code",
   "execution_count": null,
   "id": "ffdf72b4",
   "metadata": {},
   "outputs": [],
   "source": [
    "import pandas as pd\n",
    "\n",
    "# Path to your Excel file\n",
    "file_path = \"D:\\\\Mahesh Files\\\\CreditCardFraudDetection File\\\\Credit card dataset\\\\creditcard.csv\"\n",
    "\n",
    "# Read the Excel file into a DataFrame\n",
    "df = pd.read_csv(file_path)\n",
    "df = df.drop(df.columns[0], axis=1)\n",
    "\n",
    "\n",
    "df\n",
    "df = df.iloc[:272836]\n",
    "\n",
    "print(df)"
   ]
  },
  {
   "cell_type": "code",
   "execution_count": null,
   "id": "26e6d214",
   "metadata": {},
   "outputs": [],
   "source": [
    "# n_array\n",
    "\n",
    "comp_names = list(df.columns)\n",
    "print(comp_names)\n",
    "n_array=df.values\n",
    "print(n_array)\n",
    "np.shape(n_array)"
   ]
  },
  {
   "cell_type": "markdown",
   "id": "dc86a2f2",
   "metadata": {},
   "source": [
    "### Build initial SOM structure\n",
    "\n",
    "Following attributes are set:\n",
    "1. `sm._normalizer` = Instance of class `VarianceNormalizer` or `RangeNormalizer`. Default is `RangeNormalizer`. (See `normalization.py`)\n",
    "2. `sm._data`: This is the normalized data in case `normalization` parameter is provided.\n",
    "3. `sm._dim`: Number of features (3 for this example)\n",
    "4. `sm._dlen`: Number of data points (40 for this example)\n",
    "5. `sm.lattice`: Lattice type `hexa`. Only `hexa` allowed.\n",
    "6. `sm.data_raw`: Original data without normalization.\n",
    "7. `sm.neighborhood`: Only \"gaussian\" \n",
    "8. `sm.training`: Only \"batch\"\n",
    "9. `sm.codebook`: Instance of class `Codebook`. (See `codebook.py`)\n",
    "10. `sm._distance_matrix`: Distance matrix (size: m x m) which has distance between each nodes. 'm' is number of map nodes"
   ]
  },
  {
   "cell_type": "code",
   "execution_count": 4,
   "id": "b53c3751",
   "metadata": {},
   "outputs": [],
   "source": [
    "m = int(np.ceil(np.sqrt(5*np.sqrt(df.shape[0]))))\n",
    "sm = smf.build(n_array,normalization='range',initialization='pca',mapshape=\"planar\",mapsize = [m,m],lattice=\"hexa\",neighborhood='gaussian',\n",
    "          training='batch',component_names=comp_names)\n",
    "\n"
   ]
  },
  {
   "cell_type": "code",
   "execution_count": null,
   "id": "940df7e1",
   "metadata": {},
   "outputs": [],
   "source": [
    "sm.codebook.matrix"
   ]
  },
  {
   "cell_type": "markdown",
   "id": "0b470322",
   "metadata": {},
   "source": [
    "### Initialization phase\n",
    "\n",
    "Two types:\n",
    "1. `sm.som_randinit()`: For random initialization (only for cSOM)\n",
    "2. `sm.som_lininit()`: For PCA initialization (for both cSOM and iSOM)\n",
    "\n",
    "At the end of this execution, following attributes will be updated:\n",
    "1. `sm.codebook.matrix`: This is the initialized matrix\n",
    "2. `sm.initialized_matrix`: This is also the initialized matrix"
   ]
  },
  {
   "cell_type": "code",
   "execution_count": null,
   "id": "7cdfe949",
   "metadata": {},
   "outputs": [],
   "source": [
    "sm.som_lininit()"
   ]
  },
  {
   "cell_type": "code",
   "execution_count": null,
   "id": "404fcddd",
   "metadata": {},
   "outputs": [],
   "source": [
    "sm.codebook.matrix"
   ]
  },
  {
   "cell_type": "markdown",
   "id": "3573544a",
   "metadata": {},
   "source": [
    "### SOM Training phase\n",
    "\n",
    "Following parameters are fixed here: `njob`=1, `shared_memory`=False, `train_len_factor`=1\n",
    "User defined parameters:\n",
    "1. `verbose`: Can be `info` or `None`\n",
    "2. `train_rough_len`: Rough training length (See function `rough_train()` in sompy_csom.py or sompy_isom.py)\n",
    "3. `train_finetune_len`: Fine training length (See function `finetune_train()` in sompy_csom.py or sompy_isom.py)\n",
    "\n",
    "At the end of training, following attributes will be updated:\n",
    "1. `sm._bmu`: A numpy array of size (2 x dlen); First row are indices of BMU nodes, Second row are distance values to BMU nodes\n",
    "2. `sm._codebook.matrix`: Trained weights of SOM after training"
   ]
  },
  {
   "cell_type": "code",
   "execution_count": null,
   "id": "bf80f24f",
   "metadata": {},
   "outputs": [],
   "source": [
    "\n",
    "\n",
    "sm.train(request_id=None,n_job = 1, shared_memory = False, verbose='info',train_rough_len=10, train_finetune_len=10,\n",
    "                  train_len_factor=1)\n",
    "a=sm.codebook.matrix[:,-1]\n",
    "# sm._bmu[0]\n",
    "# sm._bmu[1]\n"
   ]
  },
  {
   "cell_type": "code",
   "execution_count": null,
   "id": "f05dd1c2",
   "metadata": {},
   "outputs": [],
   "source": [
    "# sm.codebook.matrix "
   ]
  },
  {
   "cell_type": "code",
   "execution_count": 9,
   "id": "768d065c",
   "metadata": {},
   "outputs": [],
   "source": [
    "k=input(\"Do you want to add more?\")\n",
    "while k==\"True\":\n",
    "    train_finetune_len=int(input(\"Enter iterations\"))\n",
    "    sm.set_initialized_matrix(sm.codebook.matrix)\n",
    "    sm.train(request_id=None,n_job = 1, shared_memory = False, verbose='info',train_rough_len=0, train_finetune_len=train_finetune_len,\n",
    "                  train_len_factor=1)\n",
    "    k=input(\"Do you want to add more?\")"
   ]
  },
  {
   "cell_type": "code",
   "execution_count": null,
   "id": "38e018ce",
   "metadata": {},
   "outputs": [],
   "source": [
    "b=sm.codebook.matrix[:,-1]\n",
    "arg_min=sm._bmu[0]\n",
    "print(\"Index of the bmus for each node: \",arg_min)\n",
    "min_dist=sm._bmu[1]\n",
    "print(\"Distance of the bmu for each node:\",min_dist)\n",
    "\n"
   ]
  },
  {
   "cell_type": "code",
   "execution_count": 14,
   "id": "a723b293",
   "metadata": {},
   "outputs": [],
   "source": [
    "# sm.codebook.matrix"
   ]
  },
  {
   "cell_type": "markdown",
   "id": "4750515c",
   "metadata": {},
   "source": [
    "### Visualization \n",
    "\n",
    "Creating a visualization instance `vis` with attributes of sm."
   ]
  },
  {
   "cell_type": "code",
   "execution_count": 11,
   "id": "906c8eaa",
   "metadata": {},
   "outputs": [],
   "source": [
    "def is_classifier_output(df):\n",
    "   \n",
    "    if df.columns[-1].lower() in ['classifieroutput', 'label', 'target']:\n",
    "        return True\n",
    "   \n",
    "    elif pd.api.types.is_numeric_dtype(df.iloc[:, -1]) and df.iloc[:, -1].nunique() <= 10:\n",
    "        return True\n",
    "    return False\n",
    "\n",
    "\n",
    "if is_classifier_output(df):\n",
    "    sm.codebook.matrix[:, -1] = np.round(sm.codebook.matrix[:, -1])\n",
    "else:\n",
    "    sm.codebook.matrix[:, -1] = sm.codebook.matrix[:, -1]\n",
    "   \n",
    "# sm.codebook.matrix[:, -1] = np.round(sm.codebook.matrix[:, -1])\n",
    "vis = Visualization_func(sm)\n",
    "show(vis.plot_cplanes())"
   ]
  },
  {
   "cell_type": "markdown",
   "id": "62b0c635",
   "metadata": {},
   "source": [
    "Plotting component planes of codebook matrix (See `viz_functions.py` and `comp_planes.py`)"
   ]
  },
  {
   "cell_type": "markdown",
   "id": "073dd608",
   "metadata": {},
   "source": [
    "`aux_fun()`: Auxiliary functions: To find hits, data mapped to a given node, neighborhood nodes etc."
   ]
  },
  {
   "cell_type": "code",
   "execution_count": null,
   "id": "7514ce25",
   "metadata": {},
   "outputs": [],
   "source": [
    "axf = aux_fun()\n",
    "hits = axf.som_bmus_1(sm,sm._data)\n",
    "# hits = axf.som_hits(sm, sm._data)  # sm._data here is normalized data"
   ]
  },
  {
   "cell_type": "code",
   "execution_count": null,
   "id": "b9e0e0c5",
   "metadata": {},
   "outputs": [],
   "source": [
    "hits"
   ]
  },
  {
   "cell_type": "code",
   "execution_count": 18,
   "id": "c1bb5739",
   "metadata": {},
   "outputs": [],
   "source": [
    "# Hit maps plotting\n",
    "show(vis.plot_hitmap(hits, comp='all' , clr='red'))   # Here, 'comp' takes index of last column of `n_array` data by default"
   ]
  },
  {
   "cell_type": "code",
   "execution_count": 19,
   "id": "0bab66c4",
   "metadata": {},
   "outputs": [],
   "source": [
    "from copy import deepcopy\n",
    "som_4umatrix = deepcopy(sm)\n",
    "som_4umatrix.set_codebook_matrix(vis.codebook)"
   ]
  },
  {
   "cell_type": "code",
   "execution_count": 20,
   "id": "c90a1518",
   "metadata": {},
   "outputs": [],
   "source": [
    "# UMatrix plotting\n",
    "U = axf.som_umat(som_4umatrix, comp=\"all\") \n",
    "show(vis.plot_umat(U))"
   ]
  },
  {
   "cell_type": "code",
   "execution_count": null,
   "id": "5a89b9ae",
   "metadata": {},
   "outputs": [],
   "source": []
  },
  {
   "cell_type": "code",
   "execution_count": null,
   "id": "94829cfd",
   "metadata": {},
   "outputs": [],
   "source": []
  },
  {
   "cell_type": "code",
   "execution_count": null,
   "id": "d515a192",
   "metadata": {},
   "outputs": [],
   "source": []
  },
  {
   "cell_type": "code",
   "execution_count": null,
   "id": "fe8e7539",
   "metadata": {},
   "outputs": [],
   "source": []
  },
  {
   "cell_type": "code",
   "execution_count": null,
   "id": "c68908aa",
   "metadata": {},
   "outputs": [],
   "source": []
  }
 ],
 "metadata": {
  "kernelspec": {
   "display_name": "Python 3",
   "language": "python",
   "name": "python3"
  },
  "language_info": {
   "codemirror_mode": {
    "name": "ipython",
    "version": 3
   },
   "file_extension": ".py",
   "mimetype": "text/x-python",
   "name": "python",
   "nbconvert_exporter": "python",
   "pygments_lexer": "ipython3",
   "version": "3.12.4"
  }
 },
 "nbformat": 4,
 "nbformat_minor": 5
}
